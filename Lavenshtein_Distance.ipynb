{
  "nbformat": 4,
  "nbformat_minor": 0,
  "metadata": {
    "colab": {
      "provenance": [],
      "authorship_tag": "ABX9TyPhcUa09wxR+J74LXEPE3eM",
      "include_colab_link": true
    },
    "kernelspec": {
      "name": "python3",
      "display_name": "Python 3"
    },
    "language_info": {
      "name": "python"
    },
    "gpuClass": "standard"
  },
  "cells": [
    {
      "cell_type": "markdown",
      "metadata": {
        "id": "view-in-github",
        "colab_type": "text"
      },
      "source": [
        "<a href=\"https://colab.research.google.com/github/Atirtacx/E_nake/blob/master/Lavenshtein_Distance.ipynb\" target=\"_parent\"><img src=\"https://colab.research.google.com/assets/colab-badge.svg\" alt=\"Open In Colab\"/></a>"
      ]
    },
    {
      "cell_type": "code",
      "execution_count": 22,
      "metadata": {
        "colab": {
          "base_uri": "https://localhost:8080/"
        },
        "id": "9HrTRFLeJp1H",
        "outputId": "83064cc1-d21d-4fe8-d99c-23588401fb12"
      },
      "outputs": [
        {
          "output_type": "stream",
          "name": "stdout",
          "text": [
            "Masukkan kata yang akan diperiksa: sya\n",
            "Kata yang Anda masukkan:  sya\n",
            "Kata yang tepat:  isya, iya, saya, sia, sua, swa, syah, syak, syal, syam, syar\n",
            "Runtime:  3.55381441116333 detik\n"
          ]
        }
      ],
      "source": [
        "import time\n",
        "\n",
        "def lev_distance(word1, word2):\n",
        "    n, m = len(word1), len(word2)\n",
        "    if n > m:\n",
        "        word1, word2 = word2, word1\n",
        "        n, m = m, n\n",
        "\n",
        "    current_row = range(n + 1)\n",
        "    for i in range(1, m + 1):\n",
        "        previous_row, current_row = current_row, [i] + [0] * n\n",
        "        for j in range(1, n + 1):\n",
        "            add, delete, change = previous_row[j] + 1, current_row[j-1] + 1, previous_row[j-1]\n",
        "            if word1[j-1] != word2[i-1]:\n",
        "                change += 1\n",
        "            current_row[j] = min(add, delete, change)\n",
        "\n",
        "    return current_row[n]\n",
        "\n",
        "def spell_checker(word, dataset):\n",
        "    min_distance = len(word)\n",
        "    suggestion = \"\"\n",
        "\n",
        "    for correct_word in dataset:\n",
        "        distance = lev_distance(word, correct_word)\n",
        "        if distance < min_distance:\n",
        "            min_distance = distance\n",
        "            suggestion = correct_word\n",
        "        elif distance == min_distance:\n",
        "            suggestion += \", \" + correct_word\n",
        "    \n",
        "    return suggestion\n",
        "\n",
        "# Main program\n",
        "if __name__ == '__main__':\n",
        "    start = time.time()\n",
        "    # Load dataset\n",
        "    with open('kata-dasar.txt', 'r', encoding='utf-8') as f:\n",
        "        dataset = f.read().splitlines()\n",
        "\n",
        "    # Test spell checker\n",
        "    word = input(\"Masukkan kata yang akan diperiksa: \")\n",
        "    suggestion = spell_checker(word, dataset)\n",
        "    print(\"Kata yang Anda masukkan: \", word)\n",
        "    print(\"Kata yang tepat: \", suggestion)\n",
        "    end = time.time()\n",
        "    print(\"Runtime: \", end - start, \"detik\")\n"
      ]
    },
    {
      "cell_type": "code",
      "source": [
        "import time\n",
        "\n",
        "def load_words(file_path):\n",
        "    with open(file_path, 'r') as f:\n",
        "        words = f.read().splitlines()\n",
        "    return words\n",
        "\n",
        "def levenshtein_distance(s, t):\n",
        "    m = len(s)\n",
        "    n = len(t)\n",
        "    d = [[0] * (n + 1) for _ in range(m + 1)]\n",
        "\n",
        "    for i in range(1, m + 1):\n",
        "        d[i][0] = i\n",
        "\n",
        "    for j in range(1, n + 1):\n",
        "        d[0][j] = j\n",
        "\n",
        "    for j in range(1, n + 1):\n",
        "        for i in range(1, m + 1):\n",
        "            if s[i - 1] == t[j - 1]:\n",
        "                d[i][j] = d[i - 1][j - 1]\n",
        "            else:\n",
        "                d[i][j] = min(d[i - 1][j] + 1,  # deletion\n",
        "                              d[i][j - 1] + 1,  # insertion\n",
        "                              d[i - 1][j - 1] + 1)  # substitution\n",
        "\n",
        "    return d[m][n]\n",
        "\n",
        "# fungsi spell checker dengan spell suggestion dan spell correction\n",
        "def spell_checker(word, dictionary):\n",
        "    min_distance = float('inf')\n",
        "    closest_word = ''\n",
        "    suggestions = []\n",
        "    for dict_word in dictionary:\n",
        "        distance = levenshtein_distance(word, dict_word)\n",
        "        if distance < min_distance:\n",
        "            min_distance = distance\n",
        "            closest_word = dict_word\n",
        "        if distance <= 1: # atur threshold jarak terdekat\n",
        "            suggestions.append(dict_word)\n",
        "            \n",
        "    if min_distance == 0:\n",
        "        return word\n",
        "    elif len(suggestions) > 0:\n",
        "        return f\"Kata yang dimaksud mungkin adalah: {', '.join(suggestions)}\"\n",
        "    else:\n",
        "        return f\"Tidak ditemukan kata yang cocok. Kata yang dimaksud mungkin adalah: {closest_word}\"\n",
        "\n",
        "# load dictionary\n",
        "start_time = time.time()\n",
        "dictionary = load_words('kata-dasar.txt')\n",
        "print(f\"Dictionary loaded in {time.time()-start_time} seconds.\")\n",
        "\n",
        "# test spell checker\n",
        "words_to_test = ['kemaren', 'ku', 'knalpot', 'brangkas', 'biskuut', 'kemeja', 'selasa', 'kmsn', 'libbrary', 'yg']\n",
        "for word in words_to_test:\n",
        "    start_time = time.time()\n",
        "    suggestion = spell_checker(word, dictionary)\n",
        "    print(f\"{word} -> {suggestion} (Time taken: {time.time()-start_time} seconds)\")\n"
      ],
      "metadata": {
        "colab": {
          "base_uri": "https://localhost:8080/"
        },
        "id": "lcbuu23za7h5",
        "outputId": "28222217-badf-46b7-b5a0-ed18dad472cb"
      },
      "execution_count": 40,
      "outputs": [
        {
          "output_type": "stream",
          "name": "stdout",
          "text": [
            "Dictionary loaded in 0.0027418136596679688 seconds.\n",
            "kemaren -> Kata yang dimaksud mungkin adalah: kemarin (Time taken: 1.3236439228057861 seconds)\n",
            "ku -> Kata yang dimaksud mungkin adalah: aku, kau, kiu, kru, kue, kui, kuk, kup, kur, kus, mu (Time taken: 0.5628814697265625 seconds)\n",
            "knalpot -> knalpot (Time taken: 1.4079837799072266 seconds)\n",
            "brangkas -> Kata yang dimaksud mungkin adalah: bangkas, brankas (Time taken: 0.8411350250244141 seconds)\n",
            "biskuut -> Kata yang dimaksud mungkin adalah: biskuit (Time taken: 0.7628719806671143 seconds)\n",
            "kemeja -> kemeja (Time taken: 0.6589088439941406 seconds)\n",
            "selasa -> selasa (Time taken: 0.6442627906799316 seconds)\n",
            "kmsn -> Tidak ditemukan kata yang cocok. Kata yang dimaksud mungkin adalah: aman (Time taken: 0.48169398307800293 seconds)\n",
            "libbrary -> Tidak ditemukan kata yang cocok. Kata yang dimaksud mungkin adalah: liberal (Time taken: 0.8662269115447998 seconds)\n",
            "yg -> Tidak ditemukan kata yang cocok. Kata yang dimaksud mungkin adalah: aga (Time taken: 0.2902665138244629 seconds)\n"
          ]
        }
      ]
    }
  ]
}